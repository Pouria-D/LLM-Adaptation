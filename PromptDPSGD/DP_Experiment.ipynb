{
 "cells": [
  {
   "cell_type": "code",
   "execution_count": null,
   "outputs": [],
   "source": [
    "from google.colab import drive\n",
    "drive.mount('/content/drive')"
   ],
   "metadata": {
    "collapsed": false,
    "pycharm": {
     "name": "#%%\n"
    }
   }
  },
  {
   "cell_type": "code",
   "execution_count": null,
   "outputs": [],
   "source": [
    "!git clone https://github.com/cleverhans-lab/PrivatePrompts.git /content/drive/MyDrive/PrivatePrompts"
   ],
   "metadata": {
    "collapsed": false,
    "pycharm": {
     "name": "#%%\n"
    }
   }
  },
  {
   "cell_type": "code",
   "execution_count": null,
   "outputs": [],
   "source": [
    "%cd /content/drive/MyDrive/PrivatePrompts/PromptDPSGD"
   ],
   "metadata": {
    "collapsed": false,
    "pycharm": {
     "name": "#%%\n"
    }
   }
  },
  {
   "cell_type": "code",
   "execution_count": null,
   "outputs": [],
   "source": [
    "!pip install -r requirements.txt"
   ],
   "metadata": {
    "collapsed": false,
    "pycharm": {
     "name": "#%%\n"
    }
   }
  },
  {
   "cell_type": "code",
   "execution_count": null,
   "outputs": [],
   "source": [
    "!pip install datasets torch transformers==4.27.3 opacus prv-accountant accelerate -U"
   ],
   "metadata": {
    "collapsed": false,
    "pycharm": {
     "name": "#%%\n"
    }
   }
  },
  {
   "cell_type": "code",
   "execution_count": null,
   "outputs": [],
   "source": [
    "!pip install prv-accountant"
   ],
   "metadata": {
    "collapsed": false,
    "pycharm": {
     "name": "#%%\n"
    }
   }
  },
  {
   "cell_type": "code",
   "execution_count": null,
   "outputs": [],
   "source": [
    "!pip install accelerate -U"
   ],
   "metadata": {
    "collapsed": false,
    "pycharm": {
     "name": "#%%\n"
    }
   }
  },
  {
   "cell_type": "code",
   "execution_count": null,
   "outputs": [],
   "source": [
    "import transformers\n",
    "transformers.__version__"
   ],
   "metadata": {
    "collapsed": false,
    "pycharm": {
     "name": "#%%\n"
    }
   }
  },
  {
   "cell_type": "code",
   "execution_count": null,
   "outputs": [],
   "source": [
    "!python run.py \\\n",
    "--method_type prompt \\\n",
    "--model_name_or_path prajjwal1/bert-tiny \\\n",
    "--task_name glue \\\n",
    "--dataset_name sst2 \\\n",
    "--output_dir results/prompt \\\n",
    "--do_train yes \\\n",
    "--do_eval yes \\\n",
    "--overwrite_output_dir"
   ],
   "metadata": {
    "collapsed": false,
    "pycharm": {
     "name": "#%%\n"
    }
   }
  },
  {
   "cell_type": "code",
   "execution_count": null,
   "outputs": [],
   "source": [
    "!python run.py \\\n",
    "--method_type prompt \\\n",
    "--model_name_or_path prajjwal1/bert-tiny \\\n",
    "--task_name glue \\\n",
    "--dataset_name qnli \\\n",
    "--output_dir results/prompt \\\n",
    "--do_train yes \\\n",
    "--do_eval yes \\\n",
    "--overwrite_output_dir"
   ],
   "metadata": {
    "collapsed": false,
    "pycharm": {
     "name": "#%%\n"
    }
   }
  },
  {
   "cell_type": "code",
   "execution_count": null,
   "outputs": [],
   "source": [
    "!python run.py \\\n",
    "--method_type prompt \\\n",
    "--model_name_or_path prajjwal1/bert-tiny \\\n",
    "--task_name glue \\\n",
    "--dataset_name qqp \\\n",
    "--output_dir results/prompt \\\n",
    "--do_train yes \\\n",
    "--do_eval yes \\\n",
    "--overwrite_output_dir"
   ],
   "metadata": {
    "collapsed": false,
    "pycharm": {
     "name": "#%%\n"
    }
   }
  },
  {
   "cell_type": "code",
   "execution_count": null,
   "outputs": [],
   "source": [
    "!python run.py --training_type private --method_type prompt --model_name_or_path prajjwal1/bert-tiny --task_name glue --dataset_name qnli --output_dir results/prompt/qnli --do_train yes --do_eval yes --target_epsilon 8  --overwrite_output_dir"
   ],
   "metadata": {
    "collapsed": false,
    "pycharm": {
     "name": "#%%\n"
    }
   }
  },
  {
   "cell_type": "code",
   "execution_count": null,
   "outputs": [],
   "source": [
    "!python run.py \\\n",
    "--method_type prompt \\\n",
    "--model_name_or_path prajjwal1/bert-tiny \\\n",
    "--task_name glue \\\n",
    "--dataset_name mnli \\\n",
    "--output_dir results/mnli \\\n",
    "--do_train yes \\\n",
    "--do_eval yes \\\n",
    "--overwrite_output_dir"
   ],
   "metadata": {
    "collapsed": false,
    "pycharm": {
     "name": "#%%\n"
    }
   }
  }
 ],
 "metadata": {
  "kernelspec": {
   "display_name": "Python 3",
   "language": "python",
   "name": "python3"
  },
  "language_info": {
   "codemirror_mode": {
    "name": "ipython",
    "version": 2
   },
   "file_extension": ".py",
   "mimetype": "text/x-python",
   "name": "python",
   "nbconvert_exporter": "python",
   "pygments_lexer": "ipython2",
   "version": "2.7.6"
  }
 },
 "nbformat": 4,
 "nbformat_minor": 0
}